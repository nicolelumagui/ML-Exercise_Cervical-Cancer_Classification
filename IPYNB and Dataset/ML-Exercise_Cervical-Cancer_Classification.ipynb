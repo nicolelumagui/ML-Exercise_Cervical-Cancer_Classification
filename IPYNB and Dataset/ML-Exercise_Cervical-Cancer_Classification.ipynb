{
 "cells": [
  {
   "cell_type": "markdown",
   "metadata": {},
   "source": [
    "<u>**MACHINE LEARNING EXERCISE: CLASSIFICATION**</u>\n",
    "# CERVICAL CANCER RISK FACTORS"
   ]
  },
  {
   "cell_type": "markdown",
   "metadata": {},
   "source": [
    "**Models**\n",
    "* Logistic Regression\n",
    "* K-Nearest Neighbors\n",
    "* Decision tree Classifier\n",
    "\n",
    "**About**\n",
    "* The dataset was collected at 'Hospital Universitario de Caracas' in Caracas, Venezuela. The dataset comprises demographic information, habits, and historic medical records of 858 patients. Several patients decided not to answer some of the questions because of privacy concerns (missing values).\n",
    "\n",
    "**Target Variable**\n",
    "* (bool) Biopsy: target variable\n",
    "\n",
    "**Features:**\n",
    "1. (int) Age \n",
    "1. (int) Number of sexual partners \n",
    "1. (int) First sexual intercourse (age) \n",
    "1. (int) Num of pregnancies \n",
    "1. (bool) Smokes \n",
    "1. (bool) Smokes (years) \n",
    "1. (bool) Smokes (packs/year) \n",
    "1. (bool) Hormonal Contraceptives \n",
    "1. (int) Hormonal Contraceptives (years) \n",
    "1. (bool) IUD \n",
    "1. (int) IUD (years) \n",
    "1. (bool) STDs \n",
    "1. (int) STDs (number) \n",
    "1. (bool) STDs:condylomatosis \n",
    "1. (bool) STDs:cervical condylomatosis \n",
    "1. (bool) STDs:vaginal condylomatosis \n",
    "1. (bool) STDs:vulvo-perineal condylomatosis \n",
    "1. (bool) STDs:syphilis \n",
    "1. (bool) STDs:pelvic inflammatory disease \n",
    "1. (bool) STDs:genital herpes \n",
    "1. (bool) STDs:molluscum contagiosum \n",
    "1. (bool) STDs:AIDS \n",
    "1. (bool) STDs:HIV \n",
    "1. (bool) STDs:Hepatitis B \n",
    "1. (bool) STDs:HPV \n",
    "1. (int) STDs: Number of diagnosis \n",
    "1. (int) STDs: Time since first diagnosis \n",
    "1. (int) STDs: Time since last diagnosis \n",
    "1. (bool) Dx:Cancer \n",
    "1. (bool) Dx:CIN \n",
    "1. (bool) Dx:HPV \n",
    "1. (bool) Dx \n",
    "1. (bool) Hinselmann: [can also be] target variable \n",
    "1. (bool) Schiller: [can also be] target variable \n",
    "1. (bool) Cytology: [can also be] target variable \n",
    "\n",
    "**Sources:**\n",
    "* https://www.kaggle.com/loveall/cervical-cancer-risk-classification\n",
    "* https://archive.ics.uci.edu/ml/datasets/Cervical+cancer+%28Risk+Factors%29#"
   ]
  },
  {
   "cell_type": "markdown",
   "metadata": {},
   "source": [
    "## Import Libraries"
   ]
  },
  {
   "cell_type": "code",
   "execution_count": 1,
   "metadata": {},
   "outputs": [],
   "source": [
    "##### Standard Libraries #####\n",
    "import numpy as np\n",
    "import pandas as pd\n",
    "import matplotlib.pyplot as plt\n",
    "import seaborn as sns\n",
    "sns.set_style(\"whitegrid\")\n",
    "sns.set_context(\"poster\")\n",
    "\n",
    "%matplotlib inline"
   ]
  },
  {
   "cell_type": "code",
   "execution_count": 2,
   "metadata": {},
   "outputs": [
    {
     "name": "stderr",
     "output_type": "stream",
     "text": [
      "C:\\Users\\Mystycalpha\\Anaconda3\\lib\\site-packages\\sklearn\\externals\\six.py:31: DeprecationWarning: The module is deprecated in version 0.21 and will be removed in version 0.23 since we've dropped support for Python 2.7. Please rely on the official version of six (https://pypi.org/project/six/).\n",
      "  \"(https://pypi.org/project/six/).\", DeprecationWarning)\n"
     ]
    }
   ],
   "source": [
    "##### Other Libraries #####\n",
    "\n",
    "## Classification Algorithms ##\n",
    "from sklearn.neighbors import KNeighborsClassifier\n",
    "from sklearn.linear_model import LogisticRegression\n",
    "from sklearn import tree\n",
    "\n",
    "## For building models ##\n",
    "from sklearn.model_selection import train_test_split\n",
    "from sklearn.preprocessing import MinMaxScaler\n",
    "\n",
    "## For measuring performance ##\n",
    "from sklearn import metrics\n",
    "from sklearn.model_selection import cross_val_score\n",
    "\n",
    "## To visualize decision tree ##\n",
    "from sklearn.externals.six import StringIO  \n",
    "from IPython.display import Image  \n",
    "from sklearn.tree import export_graphviz\n",
    "import pydotplus"
   ]
  },
  {
   "cell_type": "markdown",
   "metadata": {},
   "source": [
    "## Load the Dataset"
   ]
  },
  {
   "cell_type": "code",
   "execution_count": 3,
   "metadata": {},
   "outputs": [
    {
     "name": "stdout",
     "output_type": "stream",
     "text": [
      "Size of dataset: (411, 34)\n"
     ]
    },
    {
     "data": {
      "text/html": [
       "<div>\n",
       "<style scoped>\n",
       "    .dataframe tbody tr th:only-of-type {\n",
       "        vertical-align: middle;\n",
       "    }\n",
       "\n",
       "    .dataframe tbody tr th {\n",
       "        vertical-align: top;\n",
       "    }\n",
       "\n",
       "    .dataframe thead th {\n",
       "        text-align: right;\n",
       "    }\n",
       "</style>\n",
       "<table border=\"1\" class=\"dataframe\">\n",
       "  <thead>\n",
       "    <tr style=\"text-align: right;\">\n",
       "      <th></th>\n",
       "      <th>Age</th>\n",
       "      <th>Number of sexual partners</th>\n",
       "      <th>First sexual intercourse</th>\n",
       "      <th>Num of pregnancies</th>\n",
       "      <th>Smokes</th>\n",
       "      <th>Smokes (years)</th>\n",
       "      <th>Smokes (packs/year)</th>\n",
       "      <th>Hormonal Contraceptives</th>\n",
       "      <th>Hormonal Contraceptives (years)</th>\n",
       "      <th>IUD</th>\n",
       "      <th>...</th>\n",
       "      <th>STDs:HPV</th>\n",
       "      <th>STDs: Number of diagnosis</th>\n",
       "      <th>Dx:Cancer</th>\n",
       "      <th>Dx:CIN</th>\n",
       "      <th>Dx:HPV</th>\n",
       "      <th>Dx</th>\n",
       "      <th>Hinselmann</th>\n",
       "      <th>Schiller</th>\n",
       "      <th>Citology</th>\n",
       "      <th>Biopsy</th>\n",
       "    </tr>\n",
       "  </thead>\n",
       "  <tbody>\n",
       "    <tr>\n",
       "      <th>0</th>\n",
       "      <td>18.0</td>\n",
       "      <td>4.0</td>\n",
       "      <td>15.0</td>\n",
       "      <td>1.0</td>\n",
       "      <td>0.0</td>\n",
       "      <td>0.0</td>\n",
       "      <td>0.0</td>\n",
       "      <td>0.0</td>\n",
       "      <td>0.0</td>\n",
       "      <td>0.0</td>\n",
       "      <td>...</td>\n",
       "      <td>0.0</td>\n",
       "      <td>0.0</td>\n",
       "      <td>0.0</td>\n",
       "      <td>0.0</td>\n",
       "      <td>0.0</td>\n",
       "      <td>0.0</td>\n",
       "      <td>0.0</td>\n",
       "      <td>0.0</td>\n",
       "      <td>0.0</td>\n",
       "      <td>0.0</td>\n",
       "    </tr>\n",
       "    <tr>\n",
       "      <th>1</th>\n",
       "      <td>15.0</td>\n",
       "      <td>1.0</td>\n",
       "      <td>14.0</td>\n",
       "      <td>1.0</td>\n",
       "      <td>0.0</td>\n",
       "      <td>0.0</td>\n",
       "      <td>0.0</td>\n",
       "      <td>0.0</td>\n",
       "      <td>0.0</td>\n",
       "      <td>0.0</td>\n",
       "      <td>...</td>\n",
       "      <td>0.0</td>\n",
       "      <td>0.0</td>\n",
       "      <td>0.0</td>\n",
       "      <td>0.0</td>\n",
       "      <td>0.0</td>\n",
       "      <td>0.0</td>\n",
       "      <td>0.0</td>\n",
       "      <td>0.0</td>\n",
       "      <td>0.0</td>\n",
       "      <td>0.0</td>\n",
       "    </tr>\n",
       "    <tr>\n",
       "      <th>2</th>\n",
       "      <td>34.0</td>\n",
       "      <td>1.0</td>\n",
       "      <td>17.0</td>\n",
       "      <td>1.0</td>\n",
       "      <td>0.0</td>\n",
       "      <td>0.0</td>\n",
       "      <td>0.0</td>\n",
       "      <td>0.0</td>\n",
       "      <td>0.0</td>\n",
       "      <td>0.0</td>\n",
       "      <td>...</td>\n",
       "      <td>0.0</td>\n",
       "      <td>0.0</td>\n",
       "      <td>0.0</td>\n",
       "      <td>0.0</td>\n",
       "      <td>0.0</td>\n",
       "      <td>0.0</td>\n",
       "      <td>0.0</td>\n",
       "      <td>0.0</td>\n",
       "      <td>0.0</td>\n",
       "      <td>0.0</td>\n",
       "    </tr>\n",
       "    <tr>\n",
       "      <th>3</th>\n",
       "      <td>42.0</td>\n",
       "      <td>3.0</td>\n",
       "      <td>23.0</td>\n",
       "      <td>2.0</td>\n",
       "      <td>0.0</td>\n",
       "      <td>0.0</td>\n",
       "      <td>0.0</td>\n",
       "      <td>0.0</td>\n",
       "      <td>0.0</td>\n",
       "      <td>0.0</td>\n",
       "      <td>...</td>\n",
       "      <td>0.0</td>\n",
       "      <td>0.0</td>\n",
       "      <td>0.0</td>\n",
       "      <td>0.0</td>\n",
       "      <td>0.0</td>\n",
       "      <td>0.0</td>\n",
       "      <td>0.0</td>\n",
       "      <td>0.0</td>\n",
       "      <td>0.0</td>\n",
       "      <td>0.0</td>\n",
       "    </tr>\n",
       "    <tr>\n",
       "      <th>4</th>\n",
       "      <td>44.0</td>\n",
       "      <td>3.0</td>\n",
       "      <td>26.0</td>\n",
       "      <td>4.0</td>\n",
       "      <td>0.0</td>\n",
       "      <td>0.0</td>\n",
       "      <td>0.0</td>\n",
       "      <td>1.0</td>\n",
       "      <td>2.0</td>\n",
       "      <td>0.0</td>\n",
       "      <td>...</td>\n",
       "      <td>0.0</td>\n",
       "      <td>0.0</td>\n",
       "      <td>0.0</td>\n",
       "      <td>0.0</td>\n",
       "      <td>0.0</td>\n",
       "      <td>0.0</td>\n",
       "      <td>0.0</td>\n",
       "      <td>0.0</td>\n",
       "      <td>0.0</td>\n",
       "      <td>0.0</td>\n",
       "    </tr>\n",
       "  </tbody>\n",
       "</table>\n",
       "<p>5 rows × 34 columns</p>\n",
       "</div>"
      ],
      "text/plain": [
       "    Age  Number of sexual partners  First sexual intercourse  \\\n",
       "0  18.0                        4.0                      15.0   \n",
       "1  15.0                        1.0                      14.0   \n",
       "2  34.0                        1.0                      17.0   \n",
       "3  42.0                        3.0                      23.0   \n",
       "4  44.0                        3.0                      26.0   \n",
       "\n",
       "   Num of pregnancies  Smokes  Smokes (years)  Smokes (packs/year)  \\\n",
       "0                 1.0     0.0             0.0                  0.0   \n",
       "1                 1.0     0.0             0.0                  0.0   \n",
       "2                 1.0     0.0             0.0                  0.0   \n",
       "3                 2.0     0.0             0.0                  0.0   \n",
       "4                 4.0     0.0             0.0                  0.0   \n",
       "\n",
       "   Hormonal Contraceptives  Hormonal Contraceptives (years)  IUD  ...  \\\n",
       "0                      0.0                              0.0  0.0  ...   \n",
       "1                      0.0                              0.0  0.0  ...   \n",
       "2                      0.0                              0.0  0.0  ...   \n",
       "3                      0.0                              0.0  0.0  ...   \n",
       "4                      1.0                              2.0  0.0  ...   \n",
       "\n",
       "   STDs:HPV  STDs: Number of diagnosis  Dx:Cancer  Dx:CIN  Dx:HPV   Dx  \\\n",
       "0       0.0                        0.0        0.0     0.0     0.0  0.0   \n",
       "1       0.0                        0.0        0.0     0.0     0.0  0.0   \n",
       "2       0.0                        0.0        0.0     0.0     0.0  0.0   \n",
       "3       0.0                        0.0        0.0     0.0     0.0  0.0   \n",
       "4       0.0                        0.0        0.0     0.0     0.0  0.0   \n",
       "\n",
       "   Hinselmann  Schiller  Citology  Biopsy  \n",
       "0         0.0       0.0       0.0     0.0  \n",
       "1         0.0       0.0       0.0     0.0  \n",
       "2         0.0       0.0       0.0     0.0  \n",
       "3         0.0       0.0       0.0     0.0  \n",
       "4         0.0       0.0       0.0     0.0  \n",
       "\n",
       "[5 rows x 34 columns]"
      ]
     },
     "execution_count": 3,
     "metadata": {},
     "output_type": "execute_result"
    }
   ],
   "source": [
    "### Load the data\n",
    "df = pd.read_csv(\"kag_risk_factors_cervical_cancer_cleaned.csv\")\n",
    "print(\"Size of dataset:\", df.shape)\n",
    "df.head()"
   ]
  },
  {
   "cell_type": "code",
   "execution_count": 4,
   "metadata": {},
   "outputs": [
    {
     "name": "stdout",
     "output_type": "stream",
     "text": [
      "<class 'pandas.core.frame.DataFrame'>\n",
      "RangeIndex: 411 entries, 0 to 410\n",
      "Data columns (total 34 columns):\n",
      "Age                                   411 non-null float64\n",
      "Number of sexual partners             411 non-null float64\n",
      "First sexual intercourse              411 non-null float64\n",
      "Num of pregnancies                    411 non-null float64\n",
      "Smokes                                411 non-null float64\n",
      "Smokes (years)                        411 non-null float64\n",
      "Smokes (packs/year)                   411 non-null float64\n",
      "Hormonal Contraceptives               411 non-null float64\n",
      "Hormonal Contraceptives (years)       411 non-null float64\n",
      "IUD                                   411 non-null float64\n",
      "IUD (years)                           411 non-null float64\n",
      "STDs                                  411 non-null float64\n",
      "STDs (number)                         411 non-null float64\n",
      "STDs:condylomatosis                   411 non-null float64\n",
      "STDs:cervical condylomatosis          411 non-null float64\n",
      "STDs:vaginal condylomatosis           411 non-null float64\n",
      "STDs:vulvo-perineal condylomatosis    411 non-null float64\n",
      "STDs:syphilis                         411 non-null float64\n",
      "STDs:pelvic inflammatory disease      411 non-null float64\n",
      "STDs:genital herpes                   411 non-null float64\n",
      "STDs:molluscum contagiosum            411 non-null float64\n",
      "STDs:AIDS                             411 non-null float64\n",
      "STDs:HIV                              411 non-null float64\n",
      "STDs:Hepatitis B                      411 non-null float64\n",
      "STDs:HPV                              411 non-null float64\n",
      "STDs: Number of diagnosis             411 non-null float64\n",
      "Dx:Cancer                             411 non-null float64\n",
      "Dx:CIN                                411 non-null float64\n",
      "Dx:HPV                                411 non-null float64\n",
      "Dx                                    411 non-null float64\n",
      "Hinselmann                            411 non-null float64\n",
      "Schiller                              411 non-null float64\n",
      "Citology                              411 non-null float64\n",
      "Biopsy                                411 non-null float64\n",
      "dtypes: float64(34)\n",
      "memory usage: 109.2 KB\n"
     ]
    }
   ],
   "source": [
    "### List of columns with its data type\n",
    "df.info()"
   ]
  },
  {
   "cell_type": "markdown",
   "metadata": {},
   "source": [
    "### Explore the Dataset"
   ]
  },
  {
   "cell_type": "code",
   "execution_count": 5,
   "metadata": {
    "scrolled": true
   },
   "outputs": [
    {
     "data": {
      "text/html": [
       "<div>\n",
       "<style scoped>\n",
       "    .dataframe tbody tr th:only-of-type {\n",
       "        vertical-align: middle;\n",
       "    }\n",
       "\n",
       "    .dataframe tbody tr th {\n",
       "        vertical-align: top;\n",
       "    }\n",
       "\n",
       "    .dataframe thead th {\n",
       "        text-align: right;\n",
       "    }\n",
       "</style>\n",
       "<table border=\"1\" class=\"dataframe\">\n",
       "  <thead>\n",
       "    <tr style=\"text-align: right;\">\n",
       "      <th></th>\n",
       "      <th>Age</th>\n",
       "      <th>Number of sexual partners</th>\n",
       "      <th>First sexual intercourse</th>\n",
       "      <th>Num of pregnancies</th>\n",
       "      <th>Smokes</th>\n",
       "      <th>Smokes (years)</th>\n",
       "      <th>Smokes (packs/year)</th>\n",
       "      <th>Hormonal Contraceptives</th>\n",
       "      <th>Hormonal Contraceptives (years)</th>\n",
       "      <th>IUD</th>\n",
       "      <th>...</th>\n",
       "      <th>STDs:HPV</th>\n",
       "      <th>STDs: Number of diagnosis</th>\n",
       "      <th>Dx:Cancer</th>\n",
       "      <th>Dx:CIN</th>\n",
       "      <th>Dx:HPV</th>\n",
       "      <th>Dx</th>\n",
       "      <th>Hinselmann</th>\n",
       "      <th>Schiller</th>\n",
       "      <th>Citology</th>\n",
       "      <th>Biopsy</th>\n",
       "    </tr>\n",
       "  </thead>\n",
       "  <tbody>\n",
       "    <tr>\n",
       "      <th>count</th>\n",
       "      <td>411.000000</td>\n",
       "      <td>411.000000</td>\n",
       "      <td>411.000000</td>\n",
       "      <td>411.000000</td>\n",
       "      <td>411.000000</td>\n",
       "      <td>411.000000</td>\n",
       "      <td>411.000000</td>\n",
       "      <td>411.000000</td>\n",
       "      <td>411.000000</td>\n",
       "      <td>411.000000</td>\n",
       "      <td>...</td>\n",
       "      <td>411.0</td>\n",
       "      <td>411.000000</td>\n",
       "      <td>411.000000</td>\n",
       "      <td>411.000000</td>\n",
       "      <td>411.000000</td>\n",
       "      <td>411.000000</td>\n",
       "      <td>411.000000</td>\n",
       "      <td>411.000000</td>\n",
       "      <td>411.000000</td>\n",
       "      <td>411.000000</td>\n",
       "    </tr>\n",
       "    <tr>\n",
       "      <th>mean</th>\n",
       "      <td>25.883212</td>\n",
       "      <td>2.155718</td>\n",
       "      <td>17.411192</td>\n",
       "      <td>2.014599</td>\n",
       "      <td>0.048662</td>\n",
       "      <td>0.351097</td>\n",
       "      <td>0.095423</td>\n",
       "      <td>0.666667</td>\n",
       "      <td>1.635693</td>\n",
       "      <td>0.029197</td>\n",
       "      <td>...</td>\n",
       "      <td>0.0</td>\n",
       "      <td>0.026764</td>\n",
       "      <td>0.014599</td>\n",
       "      <td>0.007299</td>\n",
       "      <td>0.014599</td>\n",
       "      <td>0.017032</td>\n",
       "      <td>0.060827</td>\n",
       "      <td>0.116788</td>\n",
       "      <td>0.043796</td>\n",
       "      <td>0.133820</td>\n",
       "    </tr>\n",
       "    <tr>\n",
       "      <th>std</th>\n",
       "      <td>7.362462</td>\n",
       "      <td>1.075258</td>\n",
       "      <td>2.745954</td>\n",
       "      <td>1.117393</td>\n",
       "      <td>0.215422</td>\n",
       "      <td>2.434709</td>\n",
       "      <td>0.852453</td>\n",
       "      <td>0.471979</td>\n",
       "      <td>2.848869</td>\n",
       "      <td>0.168564</td>\n",
       "      <td>...</td>\n",
       "      <td>0.0</td>\n",
       "      <td>0.161590</td>\n",
       "      <td>0.120085</td>\n",
       "      <td>0.085227</td>\n",
       "      <td>0.120085</td>\n",
       "      <td>0.129547</td>\n",
       "      <td>0.239304</td>\n",
       "      <td>0.321559</td>\n",
       "      <td>0.204889</td>\n",
       "      <td>0.340874</td>\n",
       "    </tr>\n",
       "    <tr>\n",
       "      <th>min</th>\n",
       "      <td>14.000000</td>\n",
       "      <td>1.000000</td>\n",
       "      <td>11.000000</td>\n",
       "      <td>0.000000</td>\n",
       "      <td>0.000000</td>\n",
       "      <td>0.000000</td>\n",
       "      <td>0.000000</td>\n",
       "      <td>0.000000</td>\n",
       "      <td>0.000000</td>\n",
       "      <td>0.000000</td>\n",
       "      <td>...</td>\n",
       "      <td>0.0</td>\n",
       "      <td>0.000000</td>\n",
       "      <td>0.000000</td>\n",
       "      <td>0.000000</td>\n",
       "      <td>0.000000</td>\n",
       "      <td>0.000000</td>\n",
       "      <td>0.000000</td>\n",
       "      <td>0.000000</td>\n",
       "      <td>0.000000</td>\n",
       "      <td>0.000000</td>\n",
       "    </tr>\n",
       "    <tr>\n",
       "      <th>25%</th>\n",
       "      <td>20.000000</td>\n",
       "      <td>1.000000</td>\n",
       "      <td>15.000000</td>\n",
       "      <td>1.000000</td>\n",
       "      <td>0.000000</td>\n",
       "      <td>0.000000</td>\n",
       "      <td>0.000000</td>\n",
       "      <td>0.000000</td>\n",
       "      <td>0.000000</td>\n",
       "      <td>0.000000</td>\n",
       "      <td>...</td>\n",
       "      <td>0.0</td>\n",
       "      <td>0.000000</td>\n",
       "      <td>0.000000</td>\n",
       "      <td>0.000000</td>\n",
       "      <td>0.000000</td>\n",
       "      <td>0.000000</td>\n",
       "      <td>0.000000</td>\n",
       "      <td>0.000000</td>\n",
       "      <td>0.000000</td>\n",
       "      <td>0.000000</td>\n",
       "    </tr>\n",
       "    <tr>\n",
       "      <th>50%</th>\n",
       "      <td>25.000000</td>\n",
       "      <td>2.000000</td>\n",
       "      <td>17.000000</td>\n",
       "      <td>2.000000</td>\n",
       "      <td>0.000000</td>\n",
       "      <td>0.000000</td>\n",
       "      <td>0.000000</td>\n",
       "      <td>1.000000</td>\n",
       "      <td>0.500000</td>\n",
       "      <td>0.000000</td>\n",
       "      <td>...</td>\n",
       "      <td>0.0</td>\n",
       "      <td>0.000000</td>\n",
       "      <td>0.000000</td>\n",
       "      <td>0.000000</td>\n",
       "      <td>0.000000</td>\n",
       "      <td>0.000000</td>\n",
       "      <td>0.000000</td>\n",
       "      <td>0.000000</td>\n",
       "      <td>0.000000</td>\n",
       "      <td>0.000000</td>\n",
       "    </tr>\n",
       "    <tr>\n",
       "      <th>75%</th>\n",
       "      <td>30.000000</td>\n",
       "      <td>3.000000</td>\n",
       "      <td>18.000000</td>\n",
       "      <td>3.000000</td>\n",
       "      <td>0.000000</td>\n",
       "      <td>0.000000</td>\n",
       "      <td>0.000000</td>\n",
       "      <td>1.000000</td>\n",
       "      <td>2.000000</td>\n",
       "      <td>0.000000</td>\n",
       "      <td>...</td>\n",
       "      <td>0.0</td>\n",
       "      <td>0.000000</td>\n",
       "      <td>0.000000</td>\n",
       "      <td>0.000000</td>\n",
       "      <td>0.000000</td>\n",
       "      <td>0.000000</td>\n",
       "      <td>0.000000</td>\n",
       "      <td>0.000000</td>\n",
       "      <td>0.000000</td>\n",
       "      <td>0.000000</td>\n",
       "    </tr>\n",
       "    <tr>\n",
       "      <th>max</th>\n",
       "      <td>52.000000</td>\n",
       "      <td>10.000000</td>\n",
       "      <td>29.000000</td>\n",
       "      <td>8.000000</td>\n",
       "      <td>1.000000</td>\n",
       "      <td>34.000000</td>\n",
       "      <td>15.000000</td>\n",
       "      <td>1.000000</td>\n",
       "      <td>20.000000</td>\n",
       "      <td>1.000000</td>\n",
       "      <td>...</td>\n",
       "      <td>0.0</td>\n",
       "      <td>1.000000</td>\n",
       "      <td>1.000000</td>\n",
       "      <td>1.000000</td>\n",
       "      <td>1.000000</td>\n",
       "      <td>1.000000</td>\n",
       "      <td>1.000000</td>\n",
       "      <td>1.000000</td>\n",
       "      <td>1.000000</td>\n",
       "      <td>1.000000</td>\n",
       "    </tr>\n",
       "  </tbody>\n",
       "</table>\n",
       "<p>8 rows × 34 columns</p>\n",
       "</div>"
      ],
      "text/plain": [
       "              Age  Number of sexual partners  First sexual intercourse  \\\n",
       "count  411.000000                 411.000000                411.000000   \n",
       "mean    25.883212                   2.155718                 17.411192   \n",
       "std      7.362462                   1.075258                  2.745954   \n",
       "min     14.000000                   1.000000                 11.000000   \n",
       "25%     20.000000                   1.000000                 15.000000   \n",
       "50%     25.000000                   2.000000                 17.000000   \n",
       "75%     30.000000                   3.000000                 18.000000   \n",
       "max     52.000000                  10.000000                 29.000000   \n",
       "\n",
       "       Num of pregnancies      Smokes  Smokes (years)  Smokes (packs/year)  \\\n",
       "count          411.000000  411.000000      411.000000           411.000000   \n",
       "mean             2.014599    0.048662        0.351097             0.095423   \n",
       "std              1.117393    0.215422        2.434709             0.852453   \n",
       "min              0.000000    0.000000        0.000000             0.000000   \n",
       "25%              1.000000    0.000000        0.000000             0.000000   \n",
       "50%              2.000000    0.000000        0.000000             0.000000   \n",
       "75%              3.000000    0.000000        0.000000             0.000000   \n",
       "max              8.000000    1.000000       34.000000            15.000000   \n",
       "\n",
       "       Hormonal Contraceptives  Hormonal Contraceptives (years)         IUD  \\\n",
       "count               411.000000                       411.000000  411.000000   \n",
       "mean                  0.666667                         1.635693    0.029197   \n",
       "std                   0.471979                         2.848869    0.168564   \n",
       "min                   0.000000                         0.000000    0.000000   \n",
       "25%                   0.000000                         0.000000    0.000000   \n",
       "50%                   1.000000                         0.500000    0.000000   \n",
       "75%                   1.000000                         2.000000    0.000000   \n",
       "max                   1.000000                        20.000000    1.000000   \n",
       "\n",
       "       ...  STDs:HPV  STDs: Number of diagnosis   Dx:Cancer      Dx:CIN  \\\n",
       "count  ...     411.0                 411.000000  411.000000  411.000000   \n",
       "mean   ...       0.0                   0.026764    0.014599    0.007299   \n",
       "std    ...       0.0                   0.161590    0.120085    0.085227   \n",
       "min    ...       0.0                   0.000000    0.000000    0.000000   \n",
       "25%    ...       0.0                   0.000000    0.000000    0.000000   \n",
       "50%    ...       0.0                   0.000000    0.000000    0.000000   \n",
       "75%    ...       0.0                   0.000000    0.000000    0.000000   \n",
       "max    ...       0.0                   1.000000    1.000000    1.000000   \n",
       "\n",
       "           Dx:HPV          Dx  Hinselmann    Schiller    Citology      Biopsy  \n",
       "count  411.000000  411.000000  411.000000  411.000000  411.000000  411.000000  \n",
       "mean     0.014599    0.017032    0.060827    0.116788    0.043796    0.133820  \n",
       "std      0.120085    0.129547    0.239304    0.321559    0.204889    0.340874  \n",
       "min      0.000000    0.000000    0.000000    0.000000    0.000000    0.000000  \n",
       "25%      0.000000    0.000000    0.000000    0.000000    0.000000    0.000000  \n",
       "50%      0.000000    0.000000    0.000000    0.000000    0.000000    0.000000  \n",
       "75%      0.000000    0.000000    0.000000    0.000000    0.000000    0.000000  \n",
       "max      1.000000    1.000000    1.000000    1.000000    1.000000    1.000000  \n",
       "\n",
       "[8 rows x 34 columns]"
      ]
     },
     "execution_count": 5,
     "metadata": {},
     "output_type": "execute_result"
    }
   ],
   "source": [
    "### Get the summary of statistics of the data \n",
    "df.describe()"
   ]
  },
  {
   "cell_type": "code",
   "execution_count": 6,
   "metadata": {},
   "outputs": [
    {
     "data": {
      "text/plain": [
       "0.0    356\n",
       "1.0     55\n",
       "Name: Biopsy, dtype: int64"
      ]
     },
     "execution_count": 6,
     "metadata": {},
     "output_type": "execute_result"
    }
   ],
   "source": [
    "### Determine the distribution of values\n",
    "df[\"Biopsy\"].value_counts()"
   ]
  },
  {
   "cell_type": "markdown",
   "metadata": {},
   "source": [
    "As seen on the value counts above, the data is not balanced. Because of this, the models will more likely predict *0.0* more accurately than *1.0*."
   ]
  },
  {
   "cell_type": "code",
   "execution_count": 7,
   "metadata": {},
   "outputs": [
    {
     "data": {
      "text/plain": [
       "Biopsy                                1.000000\n",
       "Schiller                              0.925147\n",
       "Hinselmann                            0.647471\n",
       "Citology                              0.544482\n",
       "STDs                                  0.441213\n",
       "STDs: Number of diagnosis             0.421900\n",
       "STDs (number)                         0.412472\n",
       "STDs:condylomatosis                   0.334890\n",
       "STDs:vulvo-perineal condylomatosis    0.334890\n",
       "Dx                                    0.334890\n",
       "IUD                                   0.313868\n",
       "Dx:HPV                                0.309665\n",
       "Dx:Cancer                             0.309665\n",
       "Smokes (years)                        0.290817\n",
       "STDs:HIV                              0.282336\n",
       "Smokes (packs/year)                   0.257391\n",
       "IUD (years)                           0.253451\n",
       "Smokes                                0.243252\n",
       "Hormonal Contraceptives (years)       0.232390\n",
       "Dx:CIN                                0.218160\n",
       "Num of pregnancies                    0.161349\n",
       "Age                                   0.147161\n",
       "Number of sexual partners             0.129332\n",
       "STDs:genital herpes                   0.125647\n",
       "Hormonal Contraceptives              -0.010107\n",
       "First sexual intercourse             -0.048507\n",
       "STDs:cervical condylomatosis               NaN\n",
       "STDs:vaginal condylomatosis                NaN\n",
       "STDs:syphilis                              NaN\n",
       "STDs:pelvic inflammatory disease           NaN\n",
       "STDs:molluscum contagiosum                 NaN\n",
       "STDs:AIDS                                  NaN\n",
       "STDs:Hepatitis B                           NaN\n",
       "STDs:HPV                                   NaN\n",
       "Name: Biopsy, dtype: float64"
      ]
     },
     "execution_count": 7,
     "metadata": {},
     "output_type": "execute_result"
    }
   ],
   "source": [
    "### Get correlation of features\n",
    "df.corr()[\"Biopsy\"].sort_values(ascending=False)"
   ]
  },
  {
   "cell_type": "markdown",
   "metadata": {},
   "source": [
    "The features *Schiller*, *Hinselmann*, *Citology* and *STDS* may more likely to be the top predictors for this dataset because of its high correlation with the target variable *Biopsy*. \n",
    "\n",
    "Meanwhile, the features with *NaN* correlation with *Biopsy* are the columns with only one distinct value, as shown below."
   ]
  },
  {
   "cell_type": "code",
   "execution_count": 8,
   "metadata": {},
   "outputs": [
    {
     "name": "stdout",
     "output_type": "stream",
     "text": [
      "['STDs:cervical condylomatosis', 'STDs:vaginal condylomatosis', 'STDs:syphilis', 'STDs:pelvic inflammatory disease', 'STDs:molluscum contagiosum', 'STDs:AIDS', 'STDs:Hepatitis B', 'STDs:HPV']\n"
     ]
    }
   ],
   "source": [
    "### List columns with only 1 distinct value\n",
    "print([col for col in df.columns if df[col].value_counts().shape[0] == 1])"
   ]
  },
  {
   "cell_type": "markdown",
   "metadata": {},
   "source": [
    "## Prepare the Data for Modelling"
   ]
  },
  {
   "cell_type": "markdown",
   "metadata": {},
   "source": [
    "First, separate the predictor columns and the target variable. Also, drop the columns with *NaN* correlation with the target variable *Biopsy* since it will not contribute on the improvement of the models."
   ]
  },
  {
   "cell_type": "code",
   "execution_count": 9,
   "metadata": {},
   "outputs": [
    {
     "name": "stdout",
     "output_type": "stream",
     "text": [
      "Shape of X: (411, 25) \n",
      "Shape of y: (411,)\n"
     ]
    }
   ],
   "source": [
    "### Separate the predictor columns and the target variable\n",
    "#### Predictors\n",
    "X = df.drop([\"STDs:cervical condylomatosis\", \"STDs:vaginal condylomatosis\", \"STDs:syphilis\",\n",
    "              \"STDs:pelvic inflammatory disease\", \"STDs:molluscum contagiosum\", \"STDs:AIDS\",\n",
    "              \"STDs:Hepatitis B\", \"STDs:HPV\", \"Biopsy\"], axis=1)\n",
    "\n",
    "#### Target\n",
    "y = df[\"Biopsy\"]\n",
    "\n",
    "print(\"Shape of X:\", X.shape, \"\\nShape of y:\", y.shape)"
   ]
  },
  {
   "cell_type": "markdown",
   "metadata": {},
   "source": [
    "### Train-Test Split"
   ]
  },
  {
   "cell_type": "code",
   "execution_count": 10,
   "metadata": {},
   "outputs": [
    {
     "name": "stdout",
     "output_type": "stream",
     "text": [
      "Shape of X_train: (308, 25) \tShape of X_test: (103, 25) \n",
      "Shape of y_train: (308,) \tShape of y_test: (103,)\n"
     ]
    }
   ],
   "source": [
    "### Split the dataset into training and test sets\n",
    "X_train, X_test, y_train, y_test = train_test_split(X, y, test_size=0.25, random_state=12)\n",
    "\n",
    "### Check if properly split\n",
    "print(\"Shape of X_train:\", X_train.shape, \"\\tShape of X_test:\", X_test.shape, \n",
    "      \"\\nShape of y_train:\", y_train.shape, \"\\tShape of y_test:\", y_test.shape)"
   ]
  },
  {
   "cell_type": "markdown",
   "metadata": {},
   "source": [
    "### Scaling the data using MinMax Scaler"
   ]
  },
  {
   "cell_type": "code",
   "execution_count": 11,
   "metadata": {},
   "outputs": [],
   "source": [
    "### Instantiate the MinMax Scaler\n",
    "minmax = MinMaxScaler()\n",
    "\n",
    "### Fit the scaler to the training set\n",
    "minmax.fit(X_train)\n",
    "\n",
    "### Transform the training set\n",
    "X_train_scaled = minmax.transform(X_train)\n",
    "\n",
    "### Transform the test set\n",
    "X_test_scaled = minmax.transform(X_test)"
   ]
  },
  {
   "cell_type": "code",
   "execution_count": 12,
   "metadata": {},
   "outputs": [],
   "source": [
    "### For cross validation - whole dataset\n",
    "\n",
    "#### Fit the scaler\n",
    "minmax.fit(X)\n",
    "\n",
    "#### Transform the training set\n",
    "X_cv_scaled = minmax.transform(X)"
   ]
  },
  {
   "cell_type": "code",
   "execution_count": 13,
   "metadata": {},
   "outputs": [],
   "source": [
    "### Change to Pandas dataframe for easier viewing and manipulation of the data\n",
    "X_train_sdf = pd.DataFrame(X_train_scaled, index=X_train.index, columns=X_train.columns)\n",
    "X_test_sdf = pd.DataFrame(X_test_scaled, index=X_test.index, columns=X_test.columns)\n",
    "X_cv_sdf = pd.DataFrame(X_cv_scaled, index=X.index, columns=X.columns)"
   ]
  },
  {
   "cell_type": "markdown",
   "metadata": {},
   "source": [
    "## Build the Models"
   ]
  },
  {
   "cell_type": "code",
   "execution_count": 14,
   "metadata": {},
   "outputs": [],
   "source": [
    "### Create a method to plot the confusion matrix for easier viewing\n",
    "def confmatrix(predicted, title):\n",
    "    cm = metrics.confusion_matrix(y_test, predicted)\n",
    "\n",
    "    df_cm = pd.DataFrame(cm, index=[0,1], columns=[0,1])\n",
    "\n",
    "    fig = plt.figure(figsize= (10,7))\n",
    "    cmap = sns.diverging_palette(220, 10, as_cmap=True)\n",
    "    heatmap = sns.heatmap(df_cm,annot=True, fmt=\"d\", cmap=cmap)\n",
    "    heatmap.yaxis.set_ticklabels(heatmap.yaxis.get_ticklabels(), rotation=0, ha='right', fontsize=16)\n",
    "    heatmap.xaxis.set_ticklabels(heatmap.xaxis.get_ticklabels(), rotation=0, ha='right', fontsize=16)\n",
    "    plt.title(title)\n",
    "    plt.ylabel(\"True label\")\n",
    "    plt.xlabel(\"Predicted label\")"
   ]
  },
  {
   "cell_type": "markdown",
   "metadata": {},
   "source": [
    "### Logistic Regression"
   ]
  },
  {
   "cell_type": "markdown",
   "metadata": {},
   "source": [
    "#### Build/Train the Logistic Regression model"
   ]
  },
  {
   "cell_type": "code",
   "execution_count": 15,
   "metadata": {},
   "outputs": [
    {
     "name": "stderr",
     "output_type": "stream",
     "text": [
      "C:\\Users\\Mystycalpha\\Anaconda3\\lib\\site-packages\\sklearn\\linear_model\\logistic.py:432: FutureWarning: Default solver will be changed to 'lbfgs' in 0.22. Specify a solver to silence this warning.\n",
      "  FutureWarning)\n"
     ]
    },
    {
     "data": {
      "text/plain": [
       "LogisticRegression(C=1.0, class_weight=None, dual=False, fit_intercept=True,\n",
       "                   intercept_scaling=1, l1_ratio=None, max_iter=100,\n",
       "                   multi_class='warn', n_jobs=None, penalty='l2',\n",
       "                   random_state=None, solver='warn', tol=0.0001, verbose=0,\n",
       "                   warm_start=False)"
      ]
     },
     "execution_count": 15,
     "metadata": {},
     "output_type": "execute_result"
    }
   ],
   "source": [
    "### Instantiate the Algorithm \n",
    "logreg = LogisticRegression()\n",
    "\n",
    "### Train/Fit the model\n",
    "logreg.fit(X_train_sdf, y_train)"
   ]
  },
  {
   "cell_type": "markdown",
   "metadata": {},
   "source": [
    "#### Identify feature importance based on the Logistic Regression model"
   ]
  },
  {
   "cell_type": "code",
   "execution_count": 16,
   "metadata": {},
   "outputs": [
    {
     "data": {
      "text/html": [
       "<div>\n",
       "<style scoped>\n",
       "    .dataframe tbody tr th:only-of-type {\n",
       "        vertical-align: middle;\n",
       "    }\n",
       "\n",
       "    .dataframe tbody tr th {\n",
       "        vertical-align: top;\n",
       "    }\n",
       "\n",
       "    .dataframe thead th {\n",
       "        text-align: right;\n",
       "    }\n",
       "</style>\n",
       "<table border=\"1\" class=\"dataframe\">\n",
       "  <thead>\n",
       "    <tr style=\"text-align: right;\">\n",
       "      <th></th>\n",
       "      <th>Features</th>\n",
       "      <th>Coef</th>\n",
       "      <th>| Coef |</th>\n",
       "    </tr>\n",
       "  </thead>\n",
       "  <tbody>\n",
       "    <tr>\n",
       "      <th>23</th>\n",
       "      <td>Schiller</td>\n",
       "      <td>3.899563</td>\n",
       "      <td>3.899563</td>\n",
       "    </tr>\n",
       "    <tr>\n",
       "      <th>24</th>\n",
       "      <td>Citology</td>\n",
       "      <td>1.624006</td>\n",
       "      <td>1.624006</td>\n",
       "    </tr>\n",
       "    <tr>\n",
       "      <th>22</th>\n",
       "      <td>Hinselmann</td>\n",
       "      <td>1.380271</td>\n",
       "      <td>1.380271</td>\n",
       "    </tr>\n",
       "    <tr>\n",
       "      <th>2</th>\n",
       "      <td>First sexual intercourse</td>\n",
       "      <td>-0.930836</td>\n",
       "      <td>0.930836</td>\n",
       "    </tr>\n",
       "    <tr>\n",
       "      <th>21</th>\n",
       "      <td>Dx</td>\n",
       "      <td>0.885809</td>\n",
       "      <td>0.885809</td>\n",
       "    </tr>\n",
       "    <tr>\n",
       "      <th>19</th>\n",
       "      <td>Dx:CIN</td>\n",
       "      <td>0.805565</td>\n",
       "      <td>0.805565</td>\n",
       "    </tr>\n",
       "    <tr>\n",
       "      <th>7</th>\n",
       "      <td>Hormonal Contraceptives</td>\n",
       "      <td>-0.574310</td>\n",
       "      <td>0.574310</td>\n",
       "    </tr>\n",
       "    <tr>\n",
       "      <th>9</th>\n",
       "      <td>IUD</td>\n",
       "      <td>0.552896</td>\n",
       "      <td>0.552896</td>\n",
       "    </tr>\n",
       "    <tr>\n",
       "      <th>8</th>\n",
       "      <td>Hormonal Contraceptives (years)</td>\n",
       "      <td>0.431498</td>\n",
       "      <td>0.431498</td>\n",
       "    </tr>\n",
       "    <tr>\n",
       "      <th>1</th>\n",
       "      <td>Number of sexual partners</td>\n",
       "      <td>0.422697</td>\n",
       "      <td>0.422697</td>\n",
       "    </tr>\n",
       "    <tr>\n",
       "      <th>11</th>\n",
       "      <td>STDs</td>\n",
       "      <td>0.323547</td>\n",
       "      <td>0.323547</td>\n",
       "    </tr>\n",
       "    <tr>\n",
       "      <th>17</th>\n",
       "      <td>STDs: Number of diagnosis</td>\n",
       "      <td>0.287534</td>\n",
       "      <td>0.287534</td>\n",
       "    </tr>\n",
       "    <tr>\n",
       "      <th>10</th>\n",
       "      <td>IUD (years)</td>\n",
       "      <td>0.267958</td>\n",
       "      <td>0.267958</td>\n",
       "    </tr>\n",
       "    <tr>\n",
       "      <th>4</th>\n",
       "      <td>Smokes</td>\n",
       "      <td>0.261781</td>\n",
       "      <td>0.261781</td>\n",
       "    </tr>\n",
       "    <tr>\n",
       "      <th>12</th>\n",
       "      <td>STDs (number)</td>\n",
       "      <td>0.252504</td>\n",
       "      <td>0.252504</td>\n",
       "    </tr>\n",
       "    <tr>\n",
       "      <th>0</th>\n",
       "      <td>Age</td>\n",
       "      <td>-0.230098</td>\n",
       "      <td>0.230098</td>\n",
       "    </tr>\n",
       "    <tr>\n",
       "      <th>18</th>\n",
       "      <td>Dx:Cancer</td>\n",
       "      <td>0.189293</td>\n",
       "      <td>0.189293</td>\n",
       "    </tr>\n",
       "    <tr>\n",
       "      <th>20</th>\n",
       "      <td>Dx:HPV</td>\n",
       "      <td>0.189293</td>\n",
       "      <td>0.189293</td>\n",
       "    </tr>\n",
       "    <tr>\n",
       "      <th>14</th>\n",
       "      <td>STDs:vulvo-perineal condylomatosis</td>\n",
       "      <td>0.181461</td>\n",
       "      <td>0.181461</td>\n",
       "    </tr>\n",
       "    <tr>\n",
       "      <th>13</th>\n",
       "      <td>STDs:condylomatosis</td>\n",
       "      <td>0.181461</td>\n",
       "      <td>0.181461</td>\n",
       "    </tr>\n",
       "    <tr>\n",
       "      <th>5</th>\n",
       "      <td>Smokes (years)</td>\n",
       "      <td>0.178782</td>\n",
       "      <td>0.178782</td>\n",
       "    </tr>\n",
       "    <tr>\n",
       "      <th>6</th>\n",
       "      <td>Smokes (packs/year)</td>\n",
       "      <td>0.157158</td>\n",
       "      <td>0.157158</td>\n",
       "    </tr>\n",
       "    <tr>\n",
       "      <th>16</th>\n",
       "      <td>STDs:HIV</td>\n",
       "      <td>0.142086</td>\n",
       "      <td>0.142086</td>\n",
       "    </tr>\n",
       "    <tr>\n",
       "      <th>3</th>\n",
       "      <td>Num of pregnancies</td>\n",
       "      <td>-0.141888</td>\n",
       "      <td>0.141888</td>\n",
       "    </tr>\n",
       "    <tr>\n",
       "      <th>15</th>\n",
       "      <td>STDs:genital herpes</td>\n",
       "      <td>0.000000</td>\n",
       "      <td>0.000000</td>\n",
       "    </tr>\n",
       "  </tbody>\n",
       "</table>\n",
       "</div>"
      ],
      "text/plain": [
       "                              Features      Coef  | Coef |\n",
       "23                            Schiller  3.899563  3.899563\n",
       "24                            Citology  1.624006  1.624006\n",
       "22                          Hinselmann  1.380271  1.380271\n",
       "2             First sexual intercourse -0.930836  0.930836\n",
       "21                                  Dx  0.885809  0.885809\n",
       "19                              Dx:CIN  0.805565  0.805565\n",
       "7              Hormonal Contraceptives -0.574310  0.574310\n",
       "9                                  IUD  0.552896  0.552896\n",
       "8      Hormonal Contraceptives (years)  0.431498  0.431498\n",
       "1            Number of sexual partners  0.422697  0.422697\n",
       "11                                STDs  0.323547  0.323547\n",
       "17           STDs: Number of diagnosis  0.287534  0.287534\n",
       "10                         IUD (years)  0.267958  0.267958\n",
       "4                               Smokes  0.261781  0.261781\n",
       "12                       STDs (number)  0.252504  0.252504\n",
       "0                                  Age -0.230098  0.230098\n",
       "18                           Dx:Cancer  0.189293  0.189293\n",
       "20                              Dx:HPV  0.189293  0.189293\n",
       "14  STDs:vulvo-perineal condylomatosis  0.181461  0.181461\n",
       "13                 STDs:condylomatosis  0.181461  0.181461\n",
       "5                       Smokes (years)  0.178782  0.178782\n",
       "6                  Smokes (packs/year)  0.157158  0.157158\n",
       "16                            STDs:HIV  0.142086  0.142086\n",
       "3                   Num of pregnancies -0.141888  0.141888\n",
       "15                 STDs:genital herpes  0.000000  0.000000"
      ]
     },
     "execution_count": 16,
     "metadata": {},
     "output_type": "execute_result"
    }
   ],
   "source": [
    "### Check the Trained Model Coefficients\n",
    "coef = pd.DataFrame(X_train_sdf.columns, columns=[\"Features\"])\n",
    "coef[\"Coef\"] = logreg.coef_.reshape(-1,1)\n",
    "coef[\"| Coef |\"] = np.abs(coef[\"Coef\"])\n",
    "coef.sort_values(by=\"| Coef |\", ascending=False)"
   ]
  },
  {
   "cell_type": "markdown",
   "metadata": {},
   "source": [
    "Based on the magnitude of the coefficients, *Schiller*, *Citology*, *Hinselmann* and *First sexual intercourse* are the top predictors for this model.\n",
    "\n",
    "Notice that the predictor *First sexual intercourse* has the lowest correlation with *Biopsy*. This just shows that correlation should not always be the main basis on identifying top predictors, especially in classification."
   ]
  },
  {
   "cell_type": "markdown",
   "metadata": {},
   "source": [
    "#### Validate the Logistic Regression model"
   ]
  },
  {
   "cell_type": "code",
   "execution_count": 17,
   "metadata": {},
   "outputs": [],
   "source": [
    "### Make Predictions\n",
    "logreg_pred = logreg.predict(X_test_sdf)"
   ]
  },
  {
   "cell_type": "code",
   "execution_count": 18,
   "metadata": {},
   "outputs": [
    {
     "name": "stdout",
     "output_type": "stream",
     "text": [
      "Classification report for classifier LogisticRegression(C=1.0, class_weight=None, dual=False, fit_intercept=True,\n",
      "                   intercept_scaling=1, l1_ratio=None, max_iter=100,\n",
      "                   multi_class='warn', n_jobs=None, penalty='l2',\n",
      "                   random_state=None, solver='warn', tol=0.0001, verbose=0,\n",
      "                   warm_start=False):\n",
      "              precision    recall  f1-score   support\n",
      "\n",
      "         0.0       0.96      1.00      0.98        89\n",
      "         1.0       1.00      0.71      0.83        14\n",
      "\n",
      "    accuracy                           0.96       103\n",
      "   macro avg       0.98      0.86      0.91       103\n",
      "weighted avg       0.96      0.96      0.96       103\n",
      "\n",
      "\n",
      "Accuracy Score: 96.11650485436894\n"
     ]
    }
   ],
   "source": [
    "### Get the metrics to test performance\n",
    "logreg_score = metrics.accuracy_score(y_test,logreg_pred) * 100\n",
    "logreg_recall = metrics.recall_score(y_test, logreg_pred) * 100\n",
    "\n",
    "### Print Classification report\n",
    "print(\"Classification report for classifier %s:\\n%s\\n\"\n",
    "      % (logreg, metrics.classification_report(y_test, logreg_pred)))\n",
    "\n",
    "print(\"Accuracy Score:\", logreg_score)"
   ]
  },
  {
   "cell_type": "markdown",
   "metadata": {},
   "source": [
    "This model has a high **accuracy = 98%** and a decent **recall = 71%**.\n",
    "\n",
    "This confusion matrix shows that the model predicts *0.0* more accurately as expected. "
   ]
  },
  {
   "cell_type": "code",
   "execution_count": 19,
   "metadata": {},
   "outputs": [
    {
     "data": {
      "image/png": "[encoded data removed]",
      "text/plain": [
       "<Figure size 720x504 with 2 Axes>"
      ]
     },
     "metadata": {
      "needs_background": "light"
     },
     "output_type": "display_data"
    }
   ],
   "source": [
    "### Plot the confusion matrix\n",
    "confmatrix(logreg_pred,\"Logistic Regression - Cancer - Confusion Matrix\")"
   ]
  },
  {
   "cell_type": "markdown",
   "metadata": {},
   "source": [
    "#### Cross-validation of the Logistic Regression model"
   ]
  },
  {
   "cell_type": "code",
   "execution_count": 20,
   "metadata": {},
   "outputs": [
    {
     "name": "stderr",
     "output_type": "stream",
     "text": [
      "C:\\Users\\Mystycalpha\\Anaconda3\\lib\\site-packages\\sklearn\\linear_model\\logistic.py:432: FutureWarning: Default solver will be changed to 'lbfgs' in 0.22. Specify a solver to silence this warning.\n",
      "  FutureWarning)\n",
      "C:\\Users\\Mystycalpha\\Anaconda3\\lib\\site-packages\\sklearn\\linear_model\\logistic.py:432: FutureWarning: Default solver will be changed to 'lbfgs' in 0.22. Specify a solver to silence this warning.\n",
      "  FutureWarning)\n",
      "C:\\Users\\Mystycalpha\\Anaconda3\\lib\\site-packages\\sklearn\\linear_model\\logistic.py:432: FutureWarning: Default solver will be changed to 'lbfgs' in 0.22. Specify a solver to silence this warning.\n",
      "  FutureWarning)\n",
      "C:\\Users\\Mystycalpha\\Anaconda3\\lib\\site-packages\\sklearn\\linear_model\\logistic.py:432: FutureWarning: Default solver will be changed to 'lbfgs' in 0.22. Specify a solver to silence this warning.\n",
      "  FutureWarning)\n",
      "C:\\Users\\Mystycalpha\\Anaconda3\\lib\\site-packages\\sklearn\\linear_model\\logistic.py:432: FutureWarning: Default solver will be changed to 'lbfgs' in 0.22. Specify a solver to silence this warning.\n",
      "  FutureWarning)\n",
      "C:\\Users\\Mystycalpha\\Anaconda3\\lib\\site-packages\\sklearn\\linear_model\\logistic.py:432: FutureWarning: Default solver will be changed to 'lbfgs' in 0.22. Specify a solver to silence this warning.\n",
      "  FutureWarning)\n"
     ]
    },
    {
     "name": "stdout",
     "output_type": "stream",
     "text": [
      "Cross-Validation Scorev (10 folds): 98.29761904761905\n"
     ]
    },
    {
     "name": "stderr",
     "output_type": "stream",
     "text": [
      "C:\\Users\\Mystycalpha\\Anaconda3\\lib\\site-packages\\sklearn\\linear_model\\logistic.py:432: FutureWarning: Default solver will be changed to 'lbfgs' in 0.22. Specify a solver to silence this warning.\n",
      "  FutureWarning)\n",
      "C:\\Users\\Mystycalpha\\Anaconda3\\lib\\site-packages\\sklearn\\linear_model\\logistic.py:432: FutureWarning: Default solver will be changed to 'lbfgs' in 0.22. Specify a solver to silence this warning.\n",
      "  FutureWarning)\n",
      "C:\\Users\\Mystycalpha\\Anaconda3\\lib\\site-packages\\sklearn\\linear_model\\logistic.py:432: FutureWarning: Default solver will be changed to 'lbfgs' in 0.22. Specify a solver to silence this warning.\n",
      "  FutureWarning)\n",
      "C:\\Users\\Mystycalpha\\Anaconda3\\lib\\site-packages\\sklearn\\linear_model\\logistic.py:432: FutureWarning: Default solver will be changed to 'lbfgs' in 0.22. Specify a solver to silence this warning.\n",
      "  FutureWarning)\n"
     ]
    }
   ],
   "source": [
    "### Perform cross-validation then get the mean\n",
    "logreg_cv = np.mean(cross_val_score(logreg, X_cv_sdf, y, cv=10)) * 100\n",
    "print(\"Cross-Validation Scorev (10 folds):\", logreg_cv)"
   ]
  },
  {
   "cell_type": "markdown",
   "metadata": {},
   "source": [
    "### K-Nearest Neighbor"
   ]
  },
  {
   "cell_type": "markdown",
   "metadata": {},
   "source": [
    "#### Build/Train the KNN Model"
   ]
  },
  {
   "cell_type": "code",
   "execution_count": 21,
   "metadata": {},
   "outputs": [
    {
     "name": "stdout",
     "output_type": "stream",
     "text": [
      "---Best results---\n",
      "K: 3 \n",
      "Score: 96.11650485436894\n"
     ]
    }
   ],
   "source": [
    "### Finding the best K\n",
    "\n",
    "best_k = 0\n",
    "best_score = 0\n",
    "\n",
    "for k in range(3,200,2):\n",
    "    ### Instantiate the model\n",
    "    knn = KNeighborsClassifier(n_neighbors=k)\n",
    "\n",
    "    ### Fit the model to the training set\n",
    "    knn.fit(X_train_sdf,y_train)\n",
    "    \n",
    "    ### Predict on the Test Set\n",
    "    knn_pred = knn.predict(X_test_sdf)\n",
    "\n",
    "    ### Get accuracy\n",
    "    score = metrics.accuracy_score(y_test,knn_pred) * 100\n",
    "    \n",
    "    if score >= best_score and k >= best_k:\n",
    "        best_score = score\n",
    "        best_k = k\n",
    "\n",
    "### Print the best score and k\n",
    "print(\"---Best results---\\nK:\", best_k, \"\\nScore:\", best_score)"
   ]
  },
  {
   "cell_type": "code",
   "execution_count": 22,
   "metadata": {},
   "outputs": [],
   "source": [
    "### Build final model using the best K \n",
    "### Set the value of K\n",
    "k = best_k\n",
    "\n",
    "### Instantiate the model\n",
    "knn = KNeighborsClassifier(n_neighbors=k)\n",
    "\n",
    "### Fit the model to the training set\n",
    "knn.fit(X_train_sdf,y_train)\n",
    "\n",
    "### Predict on the Test Set\n",
    "knn_pred = knn.predict(X_test_sdf)"
   ]
  },
  {
   "cell_type": "markdown",
   "metadata": {},
   "source": [
    "#### Validate the KNN model"
   ]
  },
  {
   "cell_type": "code",
   "execution_count": 23,
   "metadata": {},
   "outputs": [],
   "source": [
    "### Predict on the Test Set\n",
    "knn_pred = knn.predict(X_test_sdf)"
   ]
  },
  {
   "cell_type": "code",
   "execution_count": 24,
   "metadata": {},
   "outputs": [
    {
     "name": "stdout",
     "output_type": "stream",
     "text": [
      "Classification report for classifier KNeighborsClassifier(algorithm='auto', leaf_size=30, metric='minkowski',\n",
      "                     metric_params=None, n_jobs=None, n_neighbors=3, p=2,\n",
      "                     weights='uniform'):\n",
      "              precision    recall  f1-score   support\n",
      "\n",
      "         0.0       0.96      1.00      0.98        89\n",
      "         1.0       1.00      0.71      0.83        14\n",
      "\n",
      "    accuracy                           0.96       103\n",
      "   macro avg       0.98      0.86      0.91       103\n",
      "weighted avg       0.96      0.96      0.96       103\n",
      "\n",
      "\n",
      "Accuracy Score: 96.11650485436894\n"
     ]
    }
   ],
   "source": [
    "### Get the metrics to test performance\n",
    "knn_score = metrics.accuracy_score(y_test, knn_pred) * 100\n",
    "knn_recall = metrics.recall_score(y_test, knn_pred) * 100\n",
    "\n",
    "### Print Classification report\n",
    "print(\"Classification report for classifier %s:\\n%s\\n\"\n",
    "      % (knn, metrics.classification_report(y_test, knn_pred)))\n",
    "\n",
    "print(\"Accuracy Score:\", knn_score)"
   ]
  },
  {
   "cell_type": "markdown",
   "metadata": {},
   "source": [
    "This model also has a high **accuracy = 96%** and a decent **recall = 71%**.\n",
    "\n",
    "This confusion matrix shows that the model predicts *0.0* more accurately as expected. "
   ]
  },
  {
   "cell_type": "code",
   "execution_count": 25,
   "metadata": {},
   "outputs": [
    {
     "data": {
      "image/png": "[encoded data removed]",
      "text/plain": [
       "<Figure size 720x504 with 2 Axes>"
      ]
     },
     "metadata": {
      "needs_background": "light"
     },
     "output_type": "display_data"
    }
   ],
   "source": [
    "### Plot the confusion matrix for easier viewing\n",
    "confmatrix(knn_pred,\"KNN - Cancer - Confusion Matrix\")"
   ]
  },
  {
   "cell_type": "markdown",
   "metadata": {},
   "source": [
    "#### Cross-validation of the KNN model"
   ]
  },
  {
   "cell_type": "code",
   "execution_count": 26,
   "metadata": {},
   "outputs": [
    {
     "name": "stdout",
     "output_type": "stream",
     "text": [
      "Cross-validation score (10 folds): 98.05952380952381\n"
     ]
    }
   ],
   "source": [
    "### Perform cross-validation then get the mean\n",
    "knn_cv = np.mean(cross_val_score(knn, X_cv_sdf, y, cv=10)) * 100\n",
    "print(\"Cross-validation score (10 folds):\", knn_cv)"
   ]
  },
  {
   "cell_type": "markdown",
   "metadata": {},
   "source": [
    "### Decision Tree Classifier"
   ]
  },
  {
   "cell_type": "markdown",
   "metadata": {},
   "source": [
    "#### Build/Train the Decision Tree model"
   ]
  },
  {
   "cell_type": "code",
   "execution_count": 27,
   "metadata": {},
   "outputs": [
    {
     "data": {
      "text/plain": [
       "DecisionTreeClassifier(class_weight=None, criterion='gini', max_depth=None,\n",
       "                       max_features=None, max_leaf_nodes=None,\n",
       "                       min_impurity_decrease=0.0, min_impurity_split=None,\n",
       "                       min_samples_leaf=1, min_samples_split=2,\n",
       "                       min_weight_fraction_leaf=0.0, presort=False,\n",
       "                       random_state=None, splitter='best')"
      ]
     },
     "execution_count": 27,
     "metadata": {},
     "output_type": "execute_result"
    }
   ],
   "source": [
    "### Instantiate the Algorithm\n",
    "dtree = tree.DecisionTreeClassifier() #criterion=\"gini\", min_samples_split=2, min_samples_leaf=1, random_state=12)\n",
    "\n",
    "### Train the model\n",
    "dtree.fit(X_train_sdf,y_train)"
   ]
  },
  {
   "cell_type": "markdown",
   "metadata": {},
   "source": [
    "#### Validate the Decision Tree model"
   ]
  },
  {
   "cell_type": "code",
   "execution_count": 28,
   "metadata": {},
   "outputs": [],
   "source": [
    "### Make predictions\n",
    "dtree_pred = dtree.predict(X_test_sdf)"
   ]
  },
  {
   "cell_type": "code",
   "execution_count": 29,
   "metadata": {},
   "outputs": [
    {
     "name": "stdout",
     "output_type": "stream",
     "text": [
      "Classification report for classifier DecisionTreeClassifier(class_weight=None, criterion='gini', max_depth=None,\n",
      "                       max_features=None, max_leaf_nodes=None,\n",
      "                       min_impurity_decrease=0.0, min_impurity_split=None,\n",
      "                       min_samples_leaf=1, min_samples_split=2,\n",
      "                       min_weight_fraction_leaf=0.0, presort=False,\n",
      "                       random_state=None, splitter='best'):\n",
      "              precision    recall  f1-score   support\n",
      "\n",
      "         0.0       0.97      1.00      0.98        89\n",
      "         1.0       1.00      0.79      0.88        14\n",
      "\n",
      "    accuracy                           0.97       103\n",
      "   macro avg       0.98      0.89      0.93       103\n",
      "weighted avg       0.97      0.97      0.97       103\n",
      "\n",
      "\n",
      "Accuracy Score: 97.0873786407767\n"
     ]
    }
   ],
   "source": [
    "### Get the metrics to test performance\n",
    "dtree_score = metrics.accuracy_score(y_test, dtree_pred) * 100\n",
    "dtree_recall = metrics.recall_score(y_test, dtree_pred) * 100\n",
    "\n",
    "### Print Classification report\n",
    "print(\"Classification report for classifier %s:\\n%s\\n\"\n",
    "      % (dtree, metrics.classification_report(y_test, dtree_pred)))\n",
    "\n",
    "print(\"Accuracy Score:\", dtree_score)"
   ]
  },
  {
   "cell_type": "markdown",
   "metadata": {},
   "source": [
    "The **97% accuracy score** of this model is also high. This model also has highest **recall of 78%** compared to the other models tried in this notebook. \n",
    "\n",
    "Shown below is the confusion matrix."
   ]
  },
  {
   "cell_type": "code",
   "execution_count": 30,
   "metadata": {},
   "outputs": [
    {
     "data": {
      "image/png": "[encoded data removed]",
      "text/plain": [
       "<Figure size 720x504 with 2 Axes>"
      ]
     },
     "metadata": {
      "needs_background": "light"
     },
     "output_type": "display_data"
    }
   ],
   "source": [
    "### Plot the confusion matrix for easier viewing\n",
    "confmatrix(dtree_pred,\"DTree - Cancer - Confusion Matrix\")"
   ]
  },
  {
   "cell_type": "markdown",
   "metadata": {},
   "source": [
    "#### Visualize Decision Tree model"
   ]
  },
  {
   "cell_type": "code",
   "execution_count": 31,
   "metadata": {},
   "outputs": [
    {
     "data": {
      "image/png": "[encoded data removed]",
      "text/plain": [
       "<IPython.core.display.Image object>"
      ]
     },
     "execution_count": 31,
     "metadata": {},
     "output_type": "execute_result"
    }
   ],
   "source": [
    "### Visualize Decision Tree\n",
    "feature_col = X_train.columns\n",
    "class_col = pd.unique(y_train)\n",
    "class_col = np.array(class_col)\n",
    "class_col = str(class_col).replace(\" \", \"\")\n",
    "\n",
    "dot_data = StringIO()\n",
    "export_graphviz(dtree, out_file=dot_data,  \n",
    "                filled=True, rounded=True,\n",
    "                special_characters=True,\n",
    "               feature_names=feature_col,\n",
    "               class_names=class_col)\n",
    "graph = pydotplus.graph_from_dot_data(dot_data.getvalue())  \n",
    "Image(graph.create_png())"
   ]
  },
  {
   "cell_type": "code",
   "execution_count": 32,
   "metadata": {},
   "outputs": [
    {
     "data": {
      "text/html": [
       "<div>\n",
       "<style scoped>\n",
       "    .dataframe tbody tr th:only-of-type {\n",
       "        vertical-align: middle;\n",
       "    }\n",
       "\n",
       "    .dataframe tbody tr th {\n",
       "        vertical-align: top;\n",
       "    }\n",
       "\n",
       "    .dataframe thead th {\n",
       "        text-align: right;\n",
       "    }\n",
       "</style>\n",
       "<table border=\"1\" class=\"dataframe\">\n",
       "  <thead>\n",
       "    <tr style=\"text-align: right;\">\n",
       "      <th></th>\n",
       "      <th>Importance</th>\n",
       "    </tr>\n",
       "  </thead>\n",
       "  <tbody>\n",
       "    <tr>\n",
       "      <th>Schiller</th>\n",
       "      <td>0.916531</td>\n",
       "    </tr>\n",
       "    <tr>\n",
       "      <th>Dx:CIN</th>\n",
       "      <td>0.027822</td>\n",
       "    </tr>\n",
       "    <tr>\n",
       "      <th>Citology</th>\n",
       "      <td>0.027616</td>\n",
       "    </tr>\n",
       "    <tr>\n",
       "      <th>Age</th>\n",
       "      <td>0.022508</td>\n",
       "    </tr>\n",
       "    <tr>\n",
       "      <th>Number of sexual partners</th>\n",
       "      <td>0.005522</td>\n",
       "    </tr>\n",
       "    <tr>\n",
       "      <th>Smokes</th>\n",
       "      <td>0.000000</td>\n",
       "    </tr>\n",
       "    <tr>\n",
       "      <th>STDs:genital herpes</th>\n",
       "      <td>0.000000</td>\n",
       "    </tr>\n",
       "    <tr>\n",
       "      <th>First sexual intercourse</th>\n",
       "      <td>0.000000</td>\n",
       "    </tr>\n",
       "    <tr>\n",
       "      <th>Hinselmann</th>\n",
       "      <td>0.000000</td>\n",
       "    </tr>\n",
       "    <tr>\n",
       "      <th>Dx</th>\n",
       "      <td>0.000000</td>\n",
       "    </tr>\n",
       "    <tr>\n",
       "      <th>Dx:HPV</th>\n",
       "      <td>0.000000</td>\n",
       "    </tr>\n",
       "    <tr>\n",
       "      <th>Num of pregnancies</th>\n",
       "      <td>0.000000</td>\n",
       "    </tr>\n",
       "    <tr>\n",
       "      <th>Dx:Cancer</th>\n",
       "      <td>0.000000</td>\n",
       "    </tr>\n",
       "    <tr>\n",
       "      <th>STDs: Number of diagnosis</th>\n",
       "      <td>0.000000</td>\n",
       "    </tr>\n",
       "    <tr>\n",
       "      <th>STDs:HIV</th>\n",
       "      <td>0.000000</td>\n",
       "    </tr>\n",
       "    <tr>\n",
       "      <th>STDs:vulvo-perineal condylomatosis</th>\n",
       "      <td>0.000000</td>\n",
       "    </tr>\n",
       "    <tr>\n",
       "      <th>Smokes (years)</th>\n",
       "      <td>0.000000</td>\n",
       "    </tr>\n",
       "    <tr>\n",
       "      <th>STDs:condylomatosis</th>\n",
       "      <td>0.000000</td>\n",
       "    </tr>\n",
       "    <tr>\n",
       "      <th>STDs</th>\n",
       "      <td>0.000000</td>\n",
       "    </tr>\n",
       "    <tr>\n",
       "      <th>IUD (years)</th>\n",
       "      <td>0.000000</td>\n",
       "    </tr>\n",
       "    <tr>\n",
       "      <th>IUD</th>\n",
       "      <td>0.000000</td>\n",
       "    </tr>\n",
       "    <tr>\n",
       "      <th>Hormonal Contraceptives (years)</th>\n",
       "      <td>0.000000</td>\n",
       "    </tr>\n",
       "    <tr>\n",
       "      <th>Hormonal Contraceptives</th>\n",
       "      <td>0.000000</td>\n",
       "    </tr>\n",
       "    <tr>\n",
       "      <th>Smokes (packs/year)</th>\n",
       "      <td>0.000000</td>\n",
       "    </tr>\n",
       "    <tr>\n",
       "      <th>STDs (number)</th>\n",
       "      <td>0.000000</td>\n",
       "    </tr>\n",
       "  </tbody>\n",
       "</table>\n",
       "</div>"
      ],
      "text/plain": [
       "                                    Importance\n",
       "Schiller                              0.916531\n",
       "Dx:CIN                                0.027822\n",
       "Citology                              0.027616\n",
       "Age                                   0.022508\n",
       "Number of sexual partners             0.005522\n",
       "Smokes                                0.000000\n",
       "STDs:genital herpes                   0.000000\n",
       "First sexual intercourse              0.000000\n",
       "Hinselmann                            0.000000\n",
       "Dx                                    0.000000\n",
       "Dx:HPV                                0.000000\n",
       "Num of pregnancies                    0.000000\n",
       "Dx:Cancer                             0.000000\n",
       "STDs: Number of diagnosis             0.000000\n",
       "STDs:HIV                              0.000000\n",
       "STDs:vulvo-perineal condylomatosis    0.000000\n",
       "Smokes (years)                        0.000000\n",
       "STDs:condylomatosis                   0.000000\n",
       "STDs                                  0.000000\n",
       "IUD (years)                           0.000000\n",
       "IUD                                   0.000000\n",
       "Hormonal Contraceptives (years)       0.000000\n",
       "Hormonal Contraceptives               0.000000\n",
       "Smokes (packs/year)                   0.000000\n",
       "STDs (number)                         0.000000"
      ]
     },
     "execution_count": 32,
     "metadata": {},
     "output_type": "execute_result"
    }
   ],
   "source": [
    "pd.DataFrame(dtree.feature_importances_, index = X_train.columns, \n",
    "             columns=[\"Importance\"]).sort_values(by=\"Importance\", ascending=False)"
   ]
  },
  {
   "cell_type": "markdown",
   "metadata": {},
   "source": [
    "The Decision Tree model only used five predictors but still got high accuracy and recall. \n",
    "\n",
    "All of the predictors for this model are same as the top predictors of the Logistic Regression model except for **Num of pregnancies** and **Number of sexual partners**. "
   ]
  },
  {
   "cell_type": "markdown",
   "metadata": {},
   "source": [
    "#### Cross-validation of the Decision Tree model"
   ]
  },
  {
   "cell_type": "code",
   "execution_count": 33,
   "metadata": {},
   "outputs": [
    {
     "name": "stdout",
     "output_type": "stream",
     "text": [
      "Cross-validation score (10 folds): 98.04761904761905\n"
     ]
    }
   ],
   "source": [
    "### Perform cross-validation\n",
    "dtree_cv = np.mean(cross_val_score(dtree, X_cv_sdf, y, cv=10)) * 100\n",
    "print(\"Cross-validation score (10 folds):\", dtree_cv)"
   ]
  },
  {
   "cell_type": "markdown",
   "metadata": {},
   "source": [
    "## Summary of Results"
   ]
  },
  {
   "cell_type": "code",
   "execution_count": 34,
   "metadata": {},
   "outputs": [
    {
     "data": {
      "text/html": [
       "<div>\n",
       "<style scoped>\n",
       "    .dataframe tbody tr th:only-of-type {\n",
       "        vertical-align: middle;\n",
       "    }\n",
       "\n",
       "    .dataframe tbody tr th {\n",
       "        vertical-align: top;\n",
       "    }\n",
       "\n",
       "    .dataframe thead th {\n",
       "        text-align: right;\n",
       "    }\n",
       "</style>\n",
       "<table border=\"1\" class=\"dataframe\">\n",
       "  <thead>\n",
       "    <tr style=\"text-align: right;\">\n",
       "      <th></th>\n",
       "      <th>Accuracy Score</th>\n",
       "      <th>Recall</th>\n",
       "      <th>Cross-Validation Score</th>\n",
       "    </tr>\n",
       "  </thead>\n",
       "  <tbody>\n",
       "    <tr>\n",
       "      <th>K-Nearest Neighbor</th>\n",
       "      <td>96.116505</td>\n",
       "      <td>71.428571</td>\n",
       "      <td>98.059524</td>\n",
       "    </tr>\n",
       "    <tr>\n",
       "      <th>Logistic Regression</th>\n",
       "      <td>96.116505</td>\n",
       "      <td>71.428571</td>\n",
       "      <td>98.297619</td>\n",
       "    </tr>\n",
       "    <tr>\n",
       "      <th>Decision Tree Classifier</th>\n",
       "      <td>97.087379</td>\n",
       "      <td>78.571429</td>\n",
       "      <td>98.047619</td>\n",
       "    </tr>\n",
       "  </tbody>\n",
       "</table>\n",
       "</div>"
      ],
      "text/plain": [
       "                          Accuracy Score     Recall  Cross-Validation Score\n",
       "K-Nearest Neighbor             96.116505  71.428571               98.059524\n",
       "Logistic Regression            96.116505  71.428571               98.297619\n",
       "Decision Tree Classifier       97.087379  78.571429               98.047619"
      ]
     },
     "execution_count": 34,
     "metadata": {},
     "output_type": "execute_result"
    }
   ],
   "source": [
    "summary = pd.DataFrame(index=[\"K-Nearest Neighbor\", \"Logistic Regression\", \"Decision Tree Classifier\"],\n",
    "                       columns=[\"Accuracy Score\", \"Recall\", \"Cross-Validation Score\"], \n",
    "                       data=[[knn_score, knn_recall, knn_cv], [logreg_score, logreg_recall, logreg_cv],\n",
    "                             [dtree_score, dtree_recall, dtree_cv]])\n",
    "summary"
   ]
  },
  {
   "cell_type": "markdown",
   "metadata": {},
   "source": [
    "Out of all the models tried, **the Decision Tree Classifier performed the best compared to the others because of its high accuracy and recall**.\n",
    "\n",
    "The Decision Tree Classifier may have a slightly lower cross-validation score, but its high recall score makes it a better fit for this use case because **it is more favorable to incorrectly classify someone with a disease to perform more tests rather than missing someone that actually has a disease**.\n",
    "\n",
    "It is highly recommended to gather more data for a more balanced dataset and try more advanced models. Also, it is recommended to try to fine tune these models since the parameters used here are all default."
   ]
  },
  {
   "cell_type": "markdown",
   "metadata": {},
   "source": [
    "## Special Thanks\n",
    "* [FTW Foundation](http://www.ftwfoundation.org)"
   ]
  }
 ],
 "metadata": {
  "kernelspec": {
   "display_name": "Python 3",
   "language": "python",
   "name": "python3"
  },
  "language_info": {
   "codemirror_mode": {
    "name": "ipython",
    "version": 3
   },
   "file_extension": ".py",
   "mimetype": "text/x-python",
   "name": "python",
   "nbconvert_exporter": "python",
   "pygments_lexer": "ipython3",
   "version": "3.7.3"
  }
 },
 "nbformat": 4,
 "nbformat_minor": 2
}
